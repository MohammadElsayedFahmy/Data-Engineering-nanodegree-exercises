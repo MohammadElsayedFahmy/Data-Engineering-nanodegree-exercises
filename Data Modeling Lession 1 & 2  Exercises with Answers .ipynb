{
 "cells": [
  {
   "cell_type": "code",
   "execution_count": null,
   "metadata": {},
   "outputs": [],
   "source": []
  }
 ],
 "metadata": {
  "kernelspec": {
   "display_name": "Python 3.10.4 ('data_analysis22')",
   "language": "python",
   "name": "python3"
  },
  "language_info": {
   "codemirror_mode": {
    "name": "ipython",
    "version": 3
   },
   "file_extension": ".py",
   "mimetype": "text/x-python",
   "name": "python",
   "nbconvert_exporter": "python",
   "pygments_lexer": "ipython3",
   "version": "3.10.4"
  },
  "vscode": {
   "interpreter": {
    "hash": "7390bee5817ea3e74f4052f33ea58b4aedc265f0c6c2a11cd27e564ec11f5f1a"
   }
  }
 },
 "nbformat": 4,
 "nbformat_minor": 2
}
